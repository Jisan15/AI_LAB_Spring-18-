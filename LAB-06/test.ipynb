{
 "cells": [
  {
   "cell_type": "code",
   "execution_count": 1,
   "metadata": {},
   "outputs": [],
   "source": [
    "import matplotlib.pyplot as plt\n",
    "import numpy as np"
   ]
  },
  {
   "cell_type": "code",
   "execution_count": 2,
   "metadata": {},
   "outputs": [
    {
     "name": "stdout",
     "output_type": "stream",
     "text": [
      "x.y full mean: 14356.0\n",
      "x mean: 11.6\n",
      "y mean: 1069.0\n",
      "x mean * y mean : 12400.4\n",
      "x mean sqr: 134.56\n",
      "x sqr mean: 152.8\n"
     ]
    }
   ],
   "source": [
    "x=np.array([6,8,12,14,18])\n",
    "y=np.array([350,775,1150,1395,1675])\n",
    "\n",
    "xy=x*y\n",
    "\n",
    "xy_mean1=xy.mean()\n",
    "print(\"x.y full mean:\", xy_mean1) \n",
    "\n",
    "x_mean=x.mean()\n",
    "y_mean=y.mean()\n",
    "\n",
    "print(\"x mean:\",x_mean)\n",
    "print(\"y mean:\", y_mean)\n",
    "\n",
    "xy_mean2=x_mean*y_mean\n",
    "\n",
    "print(\"x mean * y mean :\",xy_mean2)\n",
    "\n",
    "\n",
    "\n",
    "x_meansqr=x_mean**2 \n",
    "print(\"x mean sqr:\",x_meansqr)\n",
    "\n",
    "x_sqr=x**2\n",
    "x_sqrmean=x_sqr.mean()  \n",
    "print(\"x sqr mean:\",x_sqrmean)\n"
   ]
  },
  {
   "cell_type": "code",
   "execution_count": 3,
   "metadata": {},
   "outputs": [
    {
     "name": "stdout",
     "output_type": "stream",
     "text": [
      "m :  107.21491228070172\n"
     ]
    }
   ],
   "source": [
    "m=((xy_mean2-xy_mean1)/(x_meansqr-x_sqrmean))\n",
    "print(\"m : \",m)"
   ]
  },
  {
   "cell_type": "code",
   "execution_count": 4,
   "metadata": {},
   "outputs": [
    {
     "name": "stdout",
     "output_type": "stream",
     "text": [
      "-174.69298245614004\n"
     ]
    }
   ],
   "source": [
    "c=(y_mean-(m*x_mean))\n",
    "print(c)"
   ]
  },
  {
   "cell_type": "code",
   "execution_count": 5,
   "metadata": {},
   "outputs": [
    {
     "data": {
      "image/png": "[encoded data removed]",
      "text/plain": [
       "<Figure size 432x288 with 1 Axes>"
      ]
     },
     "metadata": {},
     "output_type": "display_data"
    }
   ],
   "source": [
    "yy1=[]\n",
    "for i in range(5):\n",
    "    yy1.append(m*x[i]+c)\n",
    "y_y=np.array(yy1)\n",
    "\n",
    "plt.plot(x,y_y)\n",
    "plt.scatter(x,y)\n",
    "plt.show()"
   ]
  },
  {
   "cell_type": "code",
   "execution_count": null,
   "metadata": {},
   "outputs": [],
   "source": []
  }
 ],
 "metadata": {
  "kernelspec": {
   "display_name": "Python 3",
   "language": "python",
   "name": "python3"
  },
  "language_info": {
   "codemirror_mode": {
    "name": "ipython",
    "version": 3
   },
   "file_extension": ".py",
   "mimetype": "text/x-python",
   "name": "python",
   "nbconvert_exporter": "python",
   "pygments_lexer": "ipython3",
   "version": "3.6.4"
  }
 },
 "nbformat": 4,
 "nbformat_minor": 2
}
